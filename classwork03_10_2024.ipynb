
{
 "cells": [
  {
   "cell_type": "code",
   "execution_count": 29,
   "id": "55650487",
   "metadata": {},
   "outputs": [
    {
     "name": "stdout",
     "output_type": "stream",
     "text": [
      "Enter a number: 5\n",
      "Number 5 is Positive \n"
     ]
    }
   ],
   "source": [
    "num=int(input(\"Enter a number: \"))\n",
    "if num> 0:\n",
    "   print(f\"Number {num} is Positive \")\n",
    "elif num == 0:\n",
    "   print(f\"Number {num} is Zero\")\n",
    "else:\n",
    "   print(f\"Number {num} is Negative \")"
   ]
  },
  {
   "cell_type": "code",
   "execution_count": 30,
   "id": "9f1c4bcb",
   "metadata": {},
   "outputs": [
    {
     "name": "stdout",
     "output_type": "stream",
     "text": [
      "Enter a number: 5\n",
      "Number 5 is odd\n"
     ]
    }
   ],
   "source": [
    "num=int(input(\"Enter a number: \"))\n",
    "if(num%2)==0:\n",
    "    print(f\"Number {num} is even\")\n",
    "else:\n",
    "    print(f\"Number {num} is odd\")"
   ]
  },
  {
   "cell_type": "code",
   "execution_count": 38,
   "id": "f9873246",
   "metadata": {},
   "outputs": [
    {
     "name": "stdout",
     "output_type": "stream",
     "text": [
      "Enter the first number5\n",
      "Enter the second number6\n",
      "Before swap\n",
      "value of a: 5 and b: 6\n",
      "After swap\n",
      "Value of a: 6 and b: 5\n"
     ]
    }
   ],
   "source": [
    "a=int(input(\"Enter the first number\"))\n",
    "b=int(input(\"Enter the second number\"))\n",
    "print(\"Before swap\")\n",
    "print(\"value of a:\",a , \"and b:\",b)\n",
    "print(\"After swap\")\n",
    "print(\"Value of a:\",b , \"and b:\",a)"
   ]
  },
  {
   "cell_type": "code",
   "execution_count": 34,
   "id": "755264af",
   "metadata": {},
   "outputs": [
    {
     "name": "stdout",
     "output_type": "stream",
     "text": [
      "Enter a character :c\n",
      "Character 'c' is not a vowel\n"
     ]
    }
   ],
   "source": [
    "c=(input(\"Enter a character :\"))\n",
    "if(c=='a'or c=='e'or c=='i'or c=='o'or c=='u'):\n",
    "    print(f\"Character  '{c}' is a vowel\")\n",
    "else: \n",
    "    print(f\"Character '{c}' is not a vowel\")"
   ]
  },
  {
   "cell_type": "code",
   "execution_count": 35,
   "id": "7b6ae251",
   "metadata": {},
   "outputs": [
    {
     "name": "stdout",
     "output_type": "stream",
     "text": [
      "Enter a number5\n",
      "Square of 5 is 25\n"
     ]
    }
   ],
   "source": [
    "n=int(input(\"Enter a number\"))\n",
    "s=n*n\n",
    "print(f\"Square of {n} is\",s)\n"
   ]
  },
  {
   "cell_type": "code",
   "execution_count": 37,
   "id": "f1e5918f",
   "metadata": {},
   "outputs": [
    {
     "name": "stdout",
     "output_type": "stream",
     "text": [
      "Enter a number: 25\n",
      "Number 25 is divisible by 5\n"
     ]
    }
   ],
   "source": [
    "num=int(input(\"Enter a number: \"))\n",
    "if(num%5)==0:\n",
    "    print(f\"Number {num} is divisible by 5\")\n",
    "else:\n",
    "    print(f\"Number {num} is not divisible by 5\")"
   ]
  },
  {
   "cell_type": "code",
   "execution_count": 45,
   "id": "7354d588",
   "metadata": {},
   "outputs": [
    {
     "name": "stdout",
     "output_type": "stream",
     "text": [
      "enter a string :nm\n",
      "Length of the string nm is 2\n"
     ]
    }
   ],
   "source": [
    "a=input(\"enter a string :\")\n",
    "print(f\"Length of the string {a} is\",len(a))"
   ]
  },
  {
   "cell_type": "code",
   "execution_count": 48,
   "id": "788743b5",
   "metadata": {},
   "outputs": [
    {
     "name": "stdout",
     "output_type": "stream",
     "text": [
      "Enter a year: 2024\n",
      "2024 is a leap year.\n"
     ]
    }
   ],
   "source": [
    "    year = int(input(\"Enter a year: \"))\n",
    "    if year%4==0:\n",
    "        print(f\"{year} is a leap year.\")\n",
    "    else:\n",
    "        print(f\"{year} is not a leap year.\")\n"
   ]
  },
  {
   "cell_type": "code",
   "execution_count": null,
   "id": "215e45ef",
   "metadata": {},
   "outputs": [],
   "source": []
  }
 ],
 "metadata": {
  "kernelspec": {
   "display_name": "Python 3 (ipykernel)",
   "language": "python",
   "name": "python3"
  },
  "language_info": {
   "codemirror_mode": {
    "name": "ipython",
    "version": 3
   },
   "file_extension": ".py",
   "mimetype": "text/x-python",
   "name": "python",
   "nbconvert_exporter": "python",
   "pygments_lexer": "ipython3",
   "version": "3.10.12"
  }
 },
 "nbformat": 4,
 "nbformat_minor": 5
}
