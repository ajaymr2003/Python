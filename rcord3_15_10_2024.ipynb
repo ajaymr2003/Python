{
 "cells": [
  {
   "cell_type": "code",
   "execution_count": 1,
   "id": "49cda6fb",
   "metadata": {},
   "outputs": [
    {
     "name": "stdout",
     "output_type": "stream",
     "text": [
      "Enter a word : amruth\n",
      "hmruta\n"
     ]
    }
   ],
   "source": [
    "a= input(\"Enter a word : \")\n",
    "b=a[-1] + a[1:-1]  + a[0]\n",
    "print(b)"
   ]
  },
  {
   "cell_type": "code",
   "execution_count": 2,
   "id": "6febd759",
   "metadata": {},
   "outputs": [
    {
     "name": "stdout",
     "output_type": "stream",
     "text": [
      "Enter 1st  string : hello\n",
      "Enter 2nd string: world\n",
      "wollo herld\n"
     ]
    }
   ],
   "source": [
    "s1= input(\"Enter 1st  string : \")\n",
    "s2= input(\"Enter 2nd string: \")\n",
    "print(s2[0:2]+s1[2:]+\" \"+s1[0:2]+s2[2:])"
   ]
  },
  {
   "cell_type": "code",
   "execution_count": 3,
   "id": "f9311037",
   "metadata": {},
   "outputs": [
    {
     "name": "stdout",
     "output_type": "stream",
     "text": [
      "enter a string :ajay\n",
      "aj$y\n"
     ]
    }
   ],
   "source": [
    "s=input(\"enter a string :\")\n",
    "x=s[0]+s[1:].replace(s[0],\"$\")\n",
    "print(x)"
   ]
  },
  {
   "cell_type": "code",
   "execution_count": 7,
   "id": "fe115db3",
   "metadata": {},
   "outputs": [
    {
     "name": "stdout",
     "output_type": "stream",
     "text": [
      "enter names of colors by putting comma :red,blue,green,orange,yellow\n",
      "first color :  red\n",
      "Last color :  yellow\n"
     ]
    }
   ],
   "source": [
    "a=input(\"Enter names of colors by putting comma :\")\n",
    "b=a.split(',')\n",
    "print(\"first color : \",b[0])\n",
    "print(\"Last color : \",b[-1])"
   ]
  },
  {
   "cell_type": "code",
   "execution_count": 3,
   "id": "5042837f",
   "metadata": {},
   "outputs": [
    {
     "name": "stdout",
     "output_type": "stream",
     "text": [
      "Enter the file nameajay.xls\n",
      "Extention of the file name is: . xls\n"
     ]
    }
   ],
   "source": [
    "f=input(\"Enter the file name\")\n",
    "fn=f.split(\".\")\n",
    "print(\"Extention of the file name is: .\",fn[-1])"
   ]
  },
  {
   "cell_type": "code",
   "execution_count": 14,
   "id": "3825c66a",
   "metadata": {},
   "outputs": [
    {
     "name": "stdout",
     "output_type": "stream",
     "text": [
      "Enter values to the tuple: ajay amruth athulya anjana frina jahana\n",
      "Tuple elements is:  ('ajay', 'amruth', 'athulya', 'anjana', 'frina', 'jahana')\n",
      "Third element athulya\n",
      "third from last anjana\n"
     ]
    }
   ],
   "source": [
    "b=input(\"Enter values to the tuple: \")\n",
    "a=tuple(b.split(\" \"))\n",
    "print(\"Tuple elements is: \",a)\n",
    "print(\"Third element\",a[2])\n",
    "print(\"third from last\",a[-3])      "
   ]
  },
  {
   "cell_type": "code",
   "execution_count": 4,
   "id": "671e79a8",
   "metadata": {},
   "outputs": [
    {
     "name": "stdout",
     "output_type": "stream",
     "text": [
      "Enter 1st  set color : red,blue,green,yellow\n",
      "Enter 2nd set color: pink,meroon,black,yellow\n",
      "Color present in set one but not in set 2 = {'red', 'green', 'blue'}\n"
     ]
    }
   ],
   "source": [
    "a=set(input(\"Enter 1st  set color : \").split(','))\n",
    "b=set(input(\"Enter 2nd set color: \").split(','))\n",
    "print(\"Color present in set one but not in set 2 =\",a-b)"
   ]
  },
  {
   "cell_type": "code",
   "execution_count": 19,
   "id": "4cf14727",
   "metadata": {},
   "outputs": [
    {
     "name": "stdout",
     "output_type": "stream",
     "text": [
      "Enter  5 roll number separated by commas :1,5,6,2,4\n",
      "Enter  5 student names separated by commas :a,b,v,c,d\n",
      "Student sorted in ascending order :  {'1': 'a', '2': 'c', '4': 'd', '5': 'b', '6': 'v'}\n",
      "Student sorted in descending order :  {'6': 'v', '5': 'b', '4': 'd', '2': 'c', '1': 'a'}\n"
     ]
    }
   ],
   "source": [
    "r=input(\"Enter  5 roll number separated by commas :\").split(',')\n",
    "n=input(\"Enter  5 student names separated by commas :\").split(',')\n",
    "d={r[0]:n[0],r[1]:n[1],r[2]:n[2],r[3]:n[3],r[4]:n[4]}\n",
    "print(\"Student sorted in ascending order : \",dict(sorted(d.items(),reverse=False)))\n",
    "print(\"Student sorted in descending order : \",dict(sorted(d.items(),reverse=True)))"
   ]
  },
  {
   "cell_type": "code",
   "execution_count": 22,
   "id": "51e446c7",
   "metadata": {},
   "outputs": [
    {
     "name": "stdout",
     "output_type": "stream",
     "text": [
      "enter three student names separated by spaces: ajay roshan fajnas\n",
      "enter other 2 student names separated by spaces: anjana akhil\n",
      "Merge disc=  {1: 'ajay', 2: 'roshan', 3: 'fajnas', 4: 'anjana', 5: 'akhil'}\n"
     ]
    }
   ],
   "source": [
    "n1=input(\"enter three student names separated by spaces: \").split()\n",
    "dict1={1:n1[0],2:n1[1],3:n1[2]}\n",
    "n2=input(\"enter other 2 student names separated by spaces: \").split()\n",
    "dict2={4:n2[0],5:n2[1]}\n",
    "dict1.update(dict2)\n",
    "print(\"Merge disc= \",dict1)"
   ]
  },
  {
   "cell_type": "code",
   "execution_count": 24,
   "id": "877e7148",
   "metadata": {},
   "outputs": [
    {
     "name": "stdout",
     "output_type": "stream",
     "text": [
      "Even number are:  [2, 4, 6, 8, 10, 12, 14, 16, 18, 20, 22, 24]\n",
      "sum of the numbers is : 156\n"
     ]
    }
   ],
   "source": [
    "even_n=list(range(2,26,2))\n",
    "print(\"Even number are: \",even_n)\n",
    "sum_n=sum(range(2,26,2))\n",
    "print(\"sum of the numbers is :\",sum_n)"
   ]
  },
  {
   "cell_type": "code",
   "execution_count": null,
   "id": "8ee2c1c4",
   "metadata": {},
   "outputs": [],
   "source": []
  }
 ],
 "metadata": {
  "kernelspec": {
   "display_name": "Python 3 (ipykernel)",
   "language": "python",
   "name": "python3"
  },
  "language_info": {
   "codemirror_mode": {
    "name": "ipython",
    "version": 3
   },
   "file_extension": ".py",
   "mimetype": "text/x-python",
   "name": "python",
   "nbconvert_exporter": "python",
   "pygments_lexer": "ipython3",
   "version": "3.10.12"
  }
 },
 "nbformat": 4,
 "nbformat_minor": 5
}
