{
 "cells": [
  {
   "cell_type": "code",
   "execution_count": 5,
   "id": "c80a73d0",
   "metadata": {},
   "outputs": [
    {
     "name": "stdout",
     "output_type": "stream",
     "text": [
      "Enter the side length of the square5\n",
      "Area of the square= 25\n"
     ]
    }
   ],
   "source": [
    "s=int(input(\"Enter the side length of the square\"))\n",
    "area=s*s\n",
    "print(\"Area of the square=\",area)"
   ]
  },
  {
   "cell_type": "code",
   "execution_count": 6,
   "id": "ef05c021",
   "metadata": {},
   "outputs": [
    {
     "name": "stdout",
     "output_type": "stream",
     "text": [
      "Enter the base of the triangle:5\n",
      "Enter the height of the triangle:8\n",
      "Area of the triangle= 20.0\n"
     ]
    }
   ],
   "source": [
    "a=float(input(\"Enter the base of the triangle:\"))\n",
    "b=float(input(\"Enter the height of the triangle:\"))\n",
    "area=a*b/2\n",
    "print(\"Area of the triangle=\",area)"
   ]
  },
  {
   "cell_type": "code",
   "execution_count": null,
   "id": "f2f8aa8c",
   "metadata": {},
   "outputs": [],
   "source": []
  }
 ],
 "metadata": {
  "kernelspec": {
   "display_name": "Python 3 (ipykernel)",
   "language": "python",
   "name": "python3"
  },
  "language_info": {
   "codemirror_mode": {
    "name": "ipython",
    "version": 3
   },
   "file_extension": ".py",
   "mimetype": "text/x-python",
   "name": "python",
   "nbconvert_exporter": "python",
   "pygments_lexer": "ipython3",
   "version": "3.10.12"
  }
 },
 "nbformat": 4,
 "nbformat_minor": 5
}
