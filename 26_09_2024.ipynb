{
 "cells": [
  {
   "cell_type": "code",
   "execution_count": 5,
   "id": "73cb601b",
   "metadata": {},
   "outputs": [
    {
     "name": "stdout",
     "output_type": "stream",
     "text": [
      "Enter the side length of the square5\n",
      "Area of the square= 25\n"
     ]
    }
   ],
   "source": [
    "s=int(input(\"Enter the side length of the square\"))\n",
    "area=s*s\n",
    "print(\"Area of the square=\",area)"
   ]
  },
  {
   "cell_type": "code",
   "execution_count": 6,
   "id": "550e9402",
   "metadata": {},
   "outputs": [
    {
     "name": "stdout",
     "output_type": "stream",
     "text": [
      "Enter the base of the triangle:5\n",
      "Enter the height of the triangle:8\n",
      "Area of the triangle= 20.0\n"
     ]
    }
   ],
   "source": [
    "a=float(input(\"Enter the base of the triangle:\"))\n",
    "b=float(input(\"Enter the height of the triangle:\"))\n",
    "area=a*b/2\n",
    "print(\"Area of the triangle=\",area)"
   ]
  },
  {
   "cell_type": "code",
   "execution_count": 8,
   "id": "40ecdd6b",
   "metadata": {},
   "outputs": [
    {
     "name": "stdout",
     "output_type": "stream",
     "text": [
      "Enter name:Ajay\n",
      "Hello,Ajay!\n"
     ]
    }
   ],
   "source": [
    "name=input(\"Enter name:\")\n",
    "print(\"Hello,\"+name+\"!\")"
   ]
  },
  {
   "cell_type": "code",
   "execution_count": 9,
   "id": "7097a24a",
   "metadata": {},
   "outputs": [
    {
     "name": "stdout",
     "output_type": "stream",
     "text": [
      "Enter an integer :5\n",
      "The previous number is: 4\n",
      "The next number is: 6\n"
     ]
    }
   ],
   "source": [
    "n=int(input(\"Enter an integer :\"))\n",
    "previous=n-1\n",
    "next=n+1\n",
    "print(\"The previous number is:\",previous)\n",
    "print(\"The next number is:\",next)\n"
   ]
  },
  {
   "cell_type": "code",
   "execution_count": 10,
   "id": "3852fc31",
   "metadata": {},
   "outputs": [
    {
     "name": "stdout",
     "output_type": "stream",
     "text": [
      "Enter the Loan amount:1000\n",
      "Enter the interest rate:5\n",
      "Enter the loan period2\n",
      "Simple interest= 100.0\n"
     ]
    }
   ],
   "source": [
    "amount=float(input(\"Enter the Loan amount:\"))\n",
    "rate=float(input(\"Enter the interest rate:\"))\n",
    "year=float(input(\"Enter the loan period\"))\n",
    "interest=(amount*rate*year)/100\n",
    "print(\"Simple interest=\",interest)"
   ]
  },
  {
   "cell_type": "code",
   "execution_count": null,
   "id": "4ef48066",
   "metadata": {},
   "outputs": [],
   "source": []
  }
 ],
 "metadata": {
  "kernelspec": {
   "display_name": "Python 3 (ipykernel)",
   "language": "python",
   "name": "python3"
  },
  "language_info": {
   "codemirror_mode": {
    "name": "ipython",
    "version": 3
   },
   "file_extension": ".py",
   "mimetype": "text/x-python",
   "name": "python",
   "nbconvert_exporter": "python",
   "pygments_lexer": "ipython3",
   "version": "3.10.12"
  }
 },
 "nbformat": 4,
 "nbformat_minor": 5
}
