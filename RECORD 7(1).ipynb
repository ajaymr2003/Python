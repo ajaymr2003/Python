
{
 "cells": [
  {
   "cell_type": "code",
   "execution_count": 1,
   "id": "0fade179-2199-43ca-ab2a-6c827d5e9869",
   "metadata": {},
   "outputs": [
    {
     "name": "stdout",
     "output_type": "stream",
     "text": [
      "1.Rectangle\n",
      "2. Circle\n",
      "3. Exit\n"
     ]
    },
    {
     "name": "stdin",
     "output_type": "stream",
     "text": [
      "Enter your choice:  1\n",
      "Enter LENGTH : 10\n",
      "Enter WIDTH : 20\n"
     ]
    },
    {
     "name": "stdout",
     "output_type": "stream",
     "text": [
      "Area of Rectangle is 200\n",
      "Perimeter of Rectangle is:  60\n",
      "1.Rectangle\n",
      "2. Circle\n",
      "3. Exit\n"
     ]
    },
    {
     "name": "stdin",
     "output_type": "stream",
     "text": [
      "Enter your choice:  2\n",
      "Enter radius : 5\n"
     ]
    },
    {
     "name": "stdout",
     "output_type": "stream",
     "text": [
      "Area of Circle:  78.5\n",
      "Perimeter of circle:  31.400000000000002\n",
      "1.Rectangle\n",
      "2. Circle\n",
      "3. Exit\n"
     ]
    },
    {
     "name": "stdin",
     "output_type": "stream",
     "text": [
      "Enter your choice:  3\n"
     ]
    },
    {
     "name": "stdout",
     "output_type": "stream",
     "text": [
      "Exiting...\n"
     ]
    }
   ],
   "source": [
    "import rect\n",
    "import circle1\n",
    "while(1):\n",
    "    print(\"1.Rectangle\\n2. Circle\\n3. Exit\")\n",
    "    ch=int(input(\"Enter your choice: \"))\n",
    "    if ch==1:\n",
    "        l=int(input(\"Enter LENGTH :\"))\n",
    "        w=int(input(\"Enter WIDTH :\"))\n",
    "        rect.rarea(l,w)\n",
    "        rect.aperi(l,w)\n",
    "    elif ch==2:\n",
    "        r=int(input(\"Enter radius :\"))\n",
    "        circle1.cearea(r)\n",
    "        circle1.cperi(r)\n",
    "    else:\n",
    "        print(\"Exiting...\")\n",
    "        break\n"
   ]
  },
  {
   "cell_type": "code",
   "execution_count": 2,
   "id": "2fe2be2e-002e-4e67-b3fc-5985d67e96ed",
   "metadata": {},
   "outputs": [
    {
     "name": "stdout",
     "output_type": "stream",
     "text": [
      "1. Rectangle\n",
      "2. Circle\n",
      "3. Cuboid\n",
      "4. Sphere\n",
      "5. Exit\n"
     ]
    },
    {
     "name": "stdin",
     "output_type": "stream",
     "text": [
      "Enter your choice:  1\n",
      "Enter length:  10\n",
      "Enter breadth:  20\n"
     ]
    },
    {
     "name": "stdout",
     "output_type": "stream",
     "text": [
      "Area of Rectangle is:  200\n",
      "Perimeter of Rectangle is:  60 \n",
      "\n",
      "\n",
      "1. Rectangle\n",
      "2. Circle\n",
      "3. Cuboid\n",
      "4. Sphere\n",
      "5. Exit\n"
     ]
    },
    {
     "name": "stdin",
     "output_type": "stream",
     "text": [
      "Enter your choice:  2\n",
      "Enter radius:  5\n"
     ]
    },
    {
     "name": "stdout",
     "output_type": "stream",
     "text": [
      "Area of Circle:  78.5\n",
      "Perimeter of circle:  31.400000000000002 \n",
      "\n",
      "1. Rectangle\n",
      "2. Circle\n",
      "3. Cuboid\n",
      "4. Sphere\n",
      "5. Exit\n"
     ]
    },
    {
     "name": "stdin",
     "output_type": "stream",
     "text": [
      "Enter your choice:  3\n",
      "Enter length:  10\n",
      "Enter breadth:  20\n",
      "Enter height:  50\n"
     ]
    },
    {
     "name": "stdout",
     "output_type": "stream",
     "text": [
      "Area of cuboid:  3400\n",
      "Perimeter of cuboid:  320 \n",
      "\n",
      "1. Rectangle\n",
      "2. Circle\n",
      "3. Cuboid\n",
      "4. Sphere\n",
      "5. Exit\n"
     ]
    },
    {
     "name": "stdin",
     "output_type": "stream",
     "text": [
      "Enter your choice:  4\n",
      "Enter radius:  5\n"
     ]
    },
    {
     "name": "stdout",
     "output_type": "stream",
     "text": [
      "Area of sphere:  157.0\n",
      "Perimeter of sphere:  314.0 \n",
      "\n",
      "1. Rectangle\n",
      "2. Circle\n",
      "3. Cuboid\n",
      "4. Sphere\n",
      "5. Exit\n"
     ]
    },
    {
     "name": "stdin",
     "output_type": "stream",
     "text": [
      "Enter your choice:  4\n",
      "Enter radius:  10\n"
     ]
    },
    {
     "name": "stdout",
     "output_type": "stream",
     "text": [
      "Area of sphere:  628.0\n",
      "Perimeter of sphere:  1256.0 \n",
      "\n",
      "1. Rectangle\n",
      "2. Circle\n",
      "3. Cuboid\n",
      "4. Sphere\n",
      "5. Exit\n"
     ]
    },
    {
     "name": "stdin",
     "output_type": "stream",
     "text": [
      "Enter your choice:  20\n"
     ]
    },
    {
     "name": "stdout",
     "output_type": "stream",
     "text": [
      "Exiting...\n"
     ]
    }
   ],
   "source": [
    "from graphics import rect\n",
    "from graphics import circle1\n",
    "from graphics.graphics3d import cuboid\n",
    "from graphics.graphics3d import sphere\n",
    "\n",
    "while(1):\n",
    "    print(\"1. Rectangle\\n2. Circle\\n3. Cuboid\\n4. Sphere\\n5. Exit\")\n",
    "    ch=int(input(\"Enter your choice: \")) \n",
    "    if ch==1: \n",
    "        l=int(input(\"Enter length: \")) \n",
    "        w=int(input(\"Enter breadth: \")) \n",
    "        rect.rarea(l,w) \n",
    "        rect.aperi(l,w)\n",
    "    elif ch==2: \n",
    "        r=int(input(\"Enter radius: \")) \n",
    "        circle1.cearea(r) \n",
    "        circle1.cperi(r) \n",
    "    elif ch==3: \n",
    "        l= int(input(\"Enter length: \")) \n",
    "        b= int(input(\"Enter breadth: \")) \n",
    "        h= int(input(\"Enter height: \")) \n",
    "        cuboid.cuboidarea(l,b,h) \n",
    "        cuboid.cuboidperi(l,b,h) \n",
    "    elif ch==4: \n",
    "        r=int(input(\"Enter radius: \")) \n",
    "        sphere.spherearea(r) \n",
    "        sphere.sphereperi (r) \n",
    "    else: \n",
    "        print(\"Exiting...\") \n",
    "        break"
   ]
  },
  {
   "cell_type": "code",
   "execution_count": null,
   "id": "cbc45f27-c06a-4baf-80f3-394372de5459",
   "metadata": {},
   "outputs": [],
   "source": []
  }
 ],
 "metadata": {
  "kernelspec": {
   "display_name": "Python 3 (ipykernel)",
   "language": "python",
   "name": "python3"
  },
  "language_info": {
   "codemirror_mode": {
    "name": "ipython",
    "version": 3
   },
   "file_extension": ".py",
   "mimetype": "text/x-python",
   "name": "python",
   "nbconvert_exporter": "python",
   "pygments_lexer": "ipython3",
   "version": "3.10.12"
  }
 },
 "nbformat": 4,
 "nbformat_minor": 5
}
