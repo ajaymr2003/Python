{
 "cells": [
  {
   "cell_type": "code",
   "execution_count": 2,
   "id": "e7348610",
   "metadata": {},
   "outputs": [
    {
     "name": "stdout",
     "output_type": "stream",
     "text": [
      "Enter text :hi hello hello ajay hi\n",
      "Occurrences of each word :  [('ajay', 1), ('hi', 2), ('hello', 2)]\n"
     ]
    }
   ],
   "source": [
    "# 1. count the occurrences of each word\n",
    "txt=input(\"Enter text :\").split()\n",
    "print(\"Occurrences of each word : \",[(word,txt.count(word))for word in set(txt)])"
   ]
  },
  {
   "cell_type": "code",
   "execution_count": 8,
   "id": "52a4baa4",
   "metadata": {},
   "outputs": [
    {
     "name": "stdout",
     "output_type": "stream",
     "text": [
      "Enter numbers separated by Spaces : 100,200\n",
      "Updated list:  ['100', 'Over']\n"
     ]
    }
   ],
   "source": [
    "# 2.greater than 100, store ‘over’ instead\n",
    "n=input(\"Enter numbers separated by Spaces : \").split(',')\n",
    "result=[\"Over\" if int(x)>100 else x for x in n]\n",
    "print(\"Updated list: \",result)"
   ]
  },
  {
   "cell_type": "code",
   "execution_count": 4,
   "id": "9ef4f680",
   "metadata": {},
   "outputs": [
    {
     "name": "stdout",
     "output_type": "stream",
     "text": [
      "Enter first names: ajay\n",
      "Occurrences of ‘a’ : 2\n"
     ]
    }
   ],
   "source": [
    "#3. Count the occurrences of ‘a’ \n",
    "s=input(\"Enter first names: \").split()\n",
    "print(\"Occurrences of ‘a’ :\",sum([x.count('a') for x in s]))"
   ]
  },
  {
   "cell_type": "code",
   "execution_count": 6,
   "id": "be7fcc4e",
   "metadata": {},
   "outputs": [
    {
     "name": "stdout",
     "output_type": "stream",
     "text": [
      "Enter 1st list of integers : 11 22 34\n",
      "Enter 2nd list of integers : 11 22 333\n",
      "SAME LENGTH  \n",
      "Not same sum\n",
      "Common Elements :  True\n"
     ]
    }
   ],
   "source": [
    "#4. two list of integers\n",
    "\n",
    "list1=list(map(int,input(\"Enter 1st list of integers : \").split()))\n",
    "list2=list(map(int,input(\"Enter 2nd list of integers : \").split()))\n",
    "# check same length\n",
    "print(\"SAME LENGTH  \"if len(list1)==len(list2)else \"Not same length\")\n",
    "# sum check\n",
    "print(\"Same sum \"if sum(list1)==sum(list2)else \"Not same sum\")\n",
    "# check common elements\n",
    "print(\"Common Elements : \",any([i in list2 for i in list1]))\n"
   ]
  },
  {
   "cell_type": "code",
   "execution_count": 7,
   "id": "dcf6bd15",
   "metadata": {},
   "outputs": [
    {
     "name": "stdout",
     "output_type": "stream",
     "text": [
      "Enter list of numbers10 -20 100 -45 00\n",
      "Positive numbers are : [10, 100]\n"
     ]
    }
   ],
   "source": [
    "#5(a) positive numbers\n",
    "s=map(int,input(\"Enter list of numbers\").split())   \n",
    "print(\"Positive numbers are :\",[i for i in s if i>0])\n"
   ]
  },
  {
   "cell_type": "code",
   "execution_count": 3,
   "id": "6f2f5cfa",
   "metadata": {},
   "outputs": [
    {
     "name": "stdout",
     "output_type": "stream",
     "text": [
      "Enter list of integers : 2 4 6\n",
      "square of numbers [4, 16, 36]\n"
     ]
    }
   ],
   "source": [
    "#5(b) Square of numbers\n",
    "\n",
    "num=map(int,input(\"Enter list of integers : \").split())\n",
    "print(\"square of numbers\",[i**2 for i in num ])"
   ]
  },
  {
   "cell_type": "code",
   "execution_count": 5,
   "id": "153c494e",
   "metadata": {},
   "outputs": [
    {
     "name": "stdout",
     "output_type": "stream",
     "text": [
      "enter a word: ajayA\n",
      "Vowel set : ['a', 'a', 'a']\n"
     ]
    }
   ],
   "source": [
    "#5(c) form vowel set\n",
    "word=input(\"enter a word: \")\n",
    "print(\"Vowel set :\",[i for i in word.lower() if i in\"aeiou\"])"
   ]
  },
  {
   "cell_type": "code",
   "execution_count": 6,
   "id": "ae1a3be0",
   "metadata": {},
   "outputs": [
    {
     "name": "stdout",
     "output_type": "stream",
     "text": [
      "enter names: Ajay\n",
      "Ordinal Values :  [65, 106, 97, 121]\n"
     ]
    }
   ],
   "source": [
    "#5(d)\n",
    "name=input(\"enter names: \")\n",
    "print(\"Ordinal Values : \",[ord(i) for i in name])"
   ]
  },
  {
   "cell_type": "code",
   "execution_count": null,
   "id": "5bd2a819",
   "metadata": {},
   "outputs": [],
   "source": []
  }
 ],
 "metadata": {
  "kernelspec": {
   "display_name": "Python 3 (ipykernel)",
   "language": "python",
   "name": "python3"
  },
  "language_info": {
   "codemirror_mode": {
    "name": "ipython",
    "version": 3
   },
   "file_extension": ".py",
   "mimetype": "text/x-python",
   "name": "python",
   "nbconvert_exporter": "python",
   "pygments_lexer": "ipython3",
   "version": "3.10.12"
  }
 },
 "nbformat": 4,
 "nbformat_minor": 5
}
