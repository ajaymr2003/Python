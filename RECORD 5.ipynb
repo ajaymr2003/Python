
{
 "cells": [
  {
   "cell_type": "code",
   "execution_count": 1,
   "id": "79a6ec0e",
   "metadata": {},
   "outputs": [
    {
     "name": "stdout",
     "output_type": "stream",
     "text": [
      "Enter the 1st number: 24\n",
      "Enter the 2nd number: 78\n",
      "the gcd of 24 and 78 is 6\n"
     ]
    }
   ],
   "source": [
    "# 1.gcd 1st\n",
    "import math\n",
    "a=int(input(\"Enter the 1st number: \"))\n",
    "b=int(input(\"Enter the 2nd number: \"))\n",
    "print(\"the gcd of\",a,\"and\",b,\"is\",math.gcd(a,b))"
   ]
  },
  {
   "cell_type": "code",
   "execution_count": 1,
   "id": "34bb6686",
   "metadata": {},
   "outputs": [
    {
     "name": "stdout",
     "output_type": "stream",
     "text": [
      "Enter integers separated by spaces: 25 20 14 56 325 8 44 5 3 1 0\n",
      "List without even numbers: [25, 325, 5, 3, 1]\n"
     ]
    }
   ],
   "source": [
    "#2.list removing even numbers.\n",
    "numbers = list(map(int, input(\"Enter integers separated by spaces: \").split()))\n",
    "odd_numbers = [num for num in numbers if num % 2 != 0]\n",
    "print(\"List without even numbers:\", odd_numbers)"
   ]
  },
  {
   "cell_type": "code",
   "execution_count": 3,
   "id": "db31bf0a",
   "metadata": {},
   "outputs": [
    {
     "name": "stdout",
     "output_type": "stream",
     "text": [
      "Enter integers separated by spaces: 5 10 15 10\n",
      "The sum of all items: 40\n"
     ]
    }
   ],
   "source": [
    "#3.sum of all items in a list\n",
    "numbers = list(map(int, input(\"Enter integers separated by spaces: \").split()))\n",
    "total_sum = sum(numbers)\n",
    "print(\"The sum of all items:\", total_sum)"
   ]
  },
  {
   "cell_type": "code",
   "execution_count": 19,
   "id": "7dd4cf19",
   "metadata": {},
   "outputs": [
    {
     "name": "stdout",
     "output_type": "stream",
     "text": [
      "Enter the start of the range: 1111\n",
      "Enter the end of the range: 9999\n",
      "Perfect square numbers with all even digits: \n",
      "4624\n",
      "6084\n",
      "6400\n",
      "8464\n"
     ]
    }
   ],
   "source": [
    "# 4.list of four digit numbers in a given range with \n",
    "#all their digits even and the number is a perfect square.\n",
    "\n",
    "import math\n",
    "start= int(input(\"Enter the start of the range: \"))\n",
    "end= int(input(\"Enter the end of the range: \"))\n",
    "print(\"Perfect square numbers with all even digits: \")\n",
    "for num in range(start, end+1):\n",
    "    if all(int(digit)%2==0 for digit in str(num)):\n",
    "        root=int(math.sqrt(num))\n",
    "        if root*root==num:\n",
    "            print(num)"
   ]
  },
  {
   "cell_type": "code",
   "execution_count": 22,
   "id": "483c1644",
   "metadata": {},
   "outputs": [
    {
     "name": "stdout",
     "output_type": "stream",
     "text": [
      "Enter the string: ajay\n",
      "Number of charachters:  {'a': 2, 'j': 1, 'y': 1}\n"
     ]
    }
   ],
   "source": [
    "#5. Count the number of characters (character frequency) in a string.\n",
    "txt= input(\"Enter the string: \")\n",
    "c={}\n",
    "for char in txt:\n",
    "    if char in c:\n",
    "        c[char] += 1\n",
    "    else:\n",
    "        c[char] = 1\n",
    "print(\"Number of charachters: \",c)\n"
   ]
  },
  {
   "cell_type": "code",
   "execution_count": 10,
   "id": "d6992e71",
   "metadata": {},
   "outputs": [
    {
     "name": "stdout",
     "output_type": "stream",
     "text": [
      "Enter a string:morning\n",
      "Modified Text is: morningly\n"
     ]
    }
   ],
   "source": [
    "# 6. Add ‘ing’ at the end of a given string. If it already ends with ‘ing’, then add ‘ly’\n",
    "txt = input(\"Enter a string:\")\n",
    "if txt[-3:] == \"ing\":\n",
    "    txt += \"ly\"\n",
    "else:\n",
    "    txt += \"ing\"\n",
    "print(\"Modified Text is:\", txt)"
   ]
  },
  {
   "cell_type": "code",
   "execution_count": null,
   "id": "c2c05a4e",
   "metadata": {},
   "outputs": [],
   "source": []
  }
 ],
 "metadata": {
  "kernelspec": {
   "display_name": "Python 3 (ipykernel)",
   "language": "python",
   "name": "python3"
  },
  "language_info": {
   "codemirror_mode": {
    "name": "ipython",
    "version": 3
   },
   "file_extension": ".py",
   "mimetype": "text/x-python",
   "name": "python",
   "nbconvert_exporter": "python",
   "pygments_lexer": "ipython3",
   "version": "3.10.12"
  }
 },
 "nbformat": 4,
 "nbformat_minor": 5
}
